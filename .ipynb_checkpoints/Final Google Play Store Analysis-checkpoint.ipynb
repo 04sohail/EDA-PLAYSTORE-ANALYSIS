{
 "cells": [
  {
   "cell_type": "markdown",
   "id": "9f317b25-4b05-4ce0-aad8-7e1f85d3d7d5",
   "metadata": {},
   "source": [
    "# EDA - PLAYSTORE ANALYSIS"
   ]
  },
  {
   "cell_type": "code",
   "execution_count": 179,
   "id": "d5bfd5be-7c36-4267-a638-28d44716bc38",
   "metadata": {},
   "outputs": [],
   "source": [
    "import pandas as pd\n",
    "import numpy as np"
   ]
  },
  {
   "cell_type": "code",
   "execution_count": 180,
   "id": "5adec453-a821-4372-94c7-ff1a8fa43d6d",
   "metadata": {},
   "outputs": [],
   "source": [
    "df = pd.read_csv(\"F:\\\\PROJECTS\\\\DSC & DA\\\\EDA PLAYSTORE ANALYSIS\\\\googleplaystore-RAW-DATA.csv\")"
   ]
  },
  {
   "cell_type": "code",
   "execution_count": 181,
   "id": "a0605d5c-768e-4004-affe-6d9e77d22631",
   "metadata": {},
   "outputs": [],
   "source": [
    "pd.set_option(\"display.max_columns\",None)"
   ]
  },
  {
   "cell_type": "code",
   "execution_count": 182,
   "id": "9b53b743-661e-4a59-afc1-88e1ce021a7e",
   "metadata": {},
   "outputs": [
    {
     "data": {
      "text/html": [
       "<div>\n",
       "<style scoped>\n",
       "    .dataframe tbody tr th:only-of-type {\n",
       "        vertical-align: middle;\n",
       "    }\n",
       "\n",
       "    .dataframe tbody tr th {\n",
       "        vertical-align: top;\n",
       "    }\n",
       "\n",
       "    .dataframe thead th {\n",
       "        text-align: right;\n",
       "    }\n",
       "</style>\n",
       "<table border=\"1\" class=\"dataframe\">\n",
       "  <thead>\n",
       "    <tr style=\"text-align: right;\">\n",
       "      <th></th>\n",
       "      <th>App</th>\n",
       "      <th>Category</th>\n",
       "      <th>Rating</th>\n",
       "      <th>Reviews</th>\n",
       "      <th>Size</th>\n",
       "      <th>Installs</th>\n",
       "      <th>Type</th>\n",
       "      <th>Price</th>\n",
       "      <th>Content Rating</th>\n",
       "      <th>Genres</th>\n",
       "      <th>Last Updated</th>\n",
       "      <th>Current Ver</th>\n",
       "      <th>Android Ver</th>\n",
       "    </tr>\n",
       "  </thead>\n",
       "  <tbody>\n",
       "    <tr>\n",
       "      <th>0</th>\n",
       "      <td>Photo Editor &amp; Candy Camera &amp; Grid &amp; ScrapBook</td>\n",
       "      <td>ART_AND_DESIGN</td>\n",
       "      <td>4.1</td>\n",
       "      <td>159</td>\n",
       "      <td>19M</td>\n",
       "      <td>10,000+</td>\n",
       "      <td>Free</td>\n",
       "      <td>0</td>\n",
       "      <td>Everyone</td>\n",
       "      <td>Art &amp; Design</td>\n",
       "      <td>January 7, 2018</td>\n",
       "      <td>1.0.0</td>\n",
       "      <td>4.0.3 and up</td>\n",
       "    </tr>\n",
       "    <tr>\n",
       "      <th>1</th>\n",
       "      <td>Coloring book moana</td>\n",
       "      <td>ART_AND_DESIGN</td>\n",
       "      <td>3.9</td>\n",
       "      <td>967</td>\n",
       "      <td>14M</td>\n",
       "      <td>500,000+</td>\n",
       "      <td>Free</td>\n",
       "      <td>0</td>\n",
       "      <td>Everyone</td>\n",
       "      <td>Art &amp; Design;Pretend Play</td>\n",
       "      <td>January 15, 2018</td>\n",
       "      <td>2.0.0</td>\n",
       "      <td>4.0.3 and up</td>\n",
       "    </tr>\n",
       "    <tr>\n",
       "      <th>2</th>\n",
       "      <td>U Launcher Lite – FREE Live Cool Themes, Hide ...</td>\n",
       "      <td>ART_AND_DESIGN</td>\n",
       "      <td>4.7</td>\n",
       "      <td>87510</td>\n",
       "      <td>8.7M</td>\n",
       "      <td>5,000,000+</td>\n",
       "      <td>Free</td>\n",
       "      <td>0</td>\n",
       "      <td>Everyone</td>\n",
       "      <td>Art &amp; Design</td>\n",
       "      <td>August 1, 2018</td>\n",
       "      <td>1.2.4</td>\n",
       "      <td>4.0.3 and up</td>\n",
       "    </tr>\n",
       "    <tr>\n",
       "      <th>3</th>\n",
       "      <td>Sketch - Draw &amp; Paint</td>\n",
       "      <td>ART_AND_DESIGN</td>\n",
       "      <td>4.5</td>\n",
       "      <td>215644</td>\n",
       "      <td>25M</td>\n",
       "      <td>50,000,000+</td>\n",
       "      <td>Free</td>\n",
       "      <td>0</td>\n",
       "      <td>Teen</td>\n",
       "      <td>Art &amp; Design</td>\n",
       "      <td>June 8, 2018</td>\n",
       "      <td>Varies with device</td>\n",
       "      <td>4.2 and up</td>\n",
       "    </tr>\n",
       "    <tr>\n",
       "      <th>4</th>\n",
       "      <td>Pixel Draw - Number Art Coloring Book</td>\n",
       "      <td>ART_AND_DESIGN</td>\n",
       "      <td>4.3</td>\n",
       "      <td>967</td>\n",
       "      <td>2.8M</td>\n",
       "      <td>100,000+</td>\n",
       "      <td>Free</td>\n",
       "      <td>0</td>\n",
       "      <td>Everyone</td>\n",
       "      <td>Art &amp; Design;Creativity</td>\n",
       "      <td>June 20, 2018</td>\n",
       "      <td>1.1</td>\n",
       "      <td>4.4 and up</td>\n",
       "    </tr>\n",
       "    <tr>\n",
       "      <th>...</th>\n",
       "      <td>...</td>\n",
       "      <td>...</td>\n",
       "      <td>...</td>\n",
       "      <td>...</td>\n",
       "      <td>...</td>\n",
       "      <td>...</td>\n",
       "      <td>...</td>\n",
       "      <td>...</td>\n",
       "      <td>...</td>\n",
       "      <td>...</td>\n",
       "      <td>...</td>\n",
       "      <td>...</td>\n",
       "      <td>...</td>\n",
       "    </tr>\n",
       "    <tr>\n",
       "      <th>10836</th>\n",
       "      <td>Sya9a Maroc - FR</td>\n",
       "      <td>FAMILY</td>\n",
       "      <td>4.5</td>\n",
       "      <td>38</td>\n",
       "      <td>53M</td>\n",
       "      <td>5,000+</td>\n",
       "      <td>Free</td>\n",
       "      <td>0</td>\n",
       "      <td>Everyone</td>\n",
       "      <td>Education</td>\n",
       "      <td>July 25, 2017</td>\n",
       "      <td>1.48</td>\n",
       "      <td>4.1 and up</td>\n",
       "    </tr>\n",
       "    <tr>\n",
       "      <th>10837</th>\n",
       "      <td>Fr. Mike Schmitz Audio Teachings</td>\n",
       "      <td>FAMILY</td>\n",
       "      <td>5.0</td>\n",
       "      <td>4</td>\n",
       "      <td>3.6M</td>\n",
       "      <td>100+</td>\n",
       "      <td>Free</td>\n",
       "      <td>0</td>\n",
       "      <td>Everyone</td>\n",
       "      <td>Education</td>\n",
       "      <td>July 6, 2018</td>\n",
       "      <td>1.0</td>\n",
       "      <td>4.1 and up</td>\n",
       "    </tr>\n",
       "    <tr>\n",
       "      <th>10838</th>\n",
       "      <td>Parkinson Exercices FR</td>\n",
       "      <td>MEDICAL</td>\n",
       "      <td>NaN</td>\n",
       "      <td>3</td>\n",
       "      <td>9.5M</td>\n",
       "      <td>1,000+</td>\n",
       "      <td>Free</td>\n",
       "      <td>0</td>\n",
       "      <td>Everyone</td>\n",
       "      <td>Medical</td>\n",
       "      <td>January 20, 2017</td>\n",
       "      <td>1.0</td>\n",
       "      <td>2.2 and up</td>\n",
       "    </tr>\n",
       "    <tr>\n",
       "      <th>10839</th>\n",
       "      <td>The SCP Foundation DB fr nn5n</td>\n",
       "      <td>BOOKS_AND_REFERENCE</td>\n",
       "      <td>4.5</td>\n",
       "      <td>114</td>\n",
       "      <td>Varies with device</td>\n",
       "      <td>1,000+</td>\n",
       "      <td>Free</td>\n",
       "      <td>0</td>\n",
       "      <td>Mature 17+</td>\n",
       "      <td>Books &amp; Reference</td>\n",
       "      <td>January 19, 2015</td>\n",
       "      <td>Varies with device</td>\n",
       "      <td>Varies with device</td>\n",
       "    </tr>\n",
       "    <tr>\n",
       "      <th>10840</th>\n",
       "      <td>iHoroscope - 2018 Daily Horoscope &amp; Astrology</td>\n",
       "      <td>LIFESTYLE</td>\n",
       "      <td>4.5</td>\n",
       "      <td>398307</td>\n",
       "      <td>19M</td>\n",
       "      <td>10,000,000+</td>\n",
       "      <td>Free</td>\n",
       "      <td>0</td>\n",
       "      <td>Everyone</td>\n",
       "      <td>Lifestyle</td>\n",
       "      <td>July 25, 2018</td>\n",
       "      <td>Varies with device</td>\n",
       "      <td>Varies with device</td>\n",
       "    </tr>\n",
       "  </tbody>\n",
       "</table>\n",
       "<p>10841 rows × 13 columns</p>\n",
       "</div>"
      ],
      "text/plain": [
       "                                                     App             Category  \\\n",
       "0         Photo Editor & Candy Camera & Grid & ScrapBook       ART_AND_DESIGN   \n",
       "1                                    Coloring book moana       ART_AND_DESIGN   \n",
       "2      U Launcher Lite – FREE Live Cool Themes, Hide ...       ART_AND_DESIGN   \n",
       "3                                  Sketch - Draw & Paint       ART_AND_DESIGN   \n",
       "4                  Pixel Draw - Number Art Coloring Book       ART_AND_DESIGN   \n",
       "...                                                  ...                  ...   \n",
       "10836                                   Sya9a Maroc - FR               FAMILY   \n",
       "10837                   Fr. Mike Schmitz Audio Teachings               FAMILY   \n",
       "10838                             Parkinson Exercices FR              MEDICAL   \n",
       "10839                      The SCP Foundation DB fr nn5n  BOOKS_AND_REFERENCE   \n",
       "10840      iHoroscope - 2018 Daily Horoscope & Astrology            LIFESTYLE   \n",
       "\n",
       "       Rating Reviews                Size     Installs  Type Price  \\\n",
       "0         4.1     159                 19M      10,000+  Free     0   \n",
       "1         3.9     967                 14M     500,000+  Free     0   \n",
       "2         4.7   87510                8.7M   5,000,000+  Free     0   \n",
       "3         4.5  215644                 25M  50,000,000+  Free     0   \n",
       "4         4.3     967                2.8M     100,000+  Free     0   \n",
       "...       ...     ...                 ...          ...   ...   ...   \n",
       "10836     4.5      38                 53M       5,000+  Free     0   \n",
       "10837     5.0       4                3.6M         100+  Free     0   \n",
       "10838     NaN       3                9.5M       1,000+  Free     0   \n",
       "10839     4.5     114  Varies with device       1,000+  Free     0   \n",
       "10840     4.5  398307                 19M  10,000,000+  Free     0   \n",
       "\n",
       "      Content Rating                     Genres      Last Updated  \\\n",
       "0           Everyone               Art & Design   January 7, 2018   \n",
       "1           Everyone  Art & Design;Pretend Play  January 15, 2018   \n",
       "2           Everyone               Art & Design    August 1, 2018   \n",
       "3               Teen               Art & Design      June 8, 2018   \n",
       "4           Everyone    Art & Design;Creativity     June 20, 2018   \n",
       "...              ...                        ...               ...   \n",
       "10836       Everyone                  Education     July 25, 2017   \n",
       "10837       Everyone                  Education      July 6, 2018   \n",
       "10838       Everyone                    Medical  January 20, 2017   \n",
       "10839     Mature 17+          Books & Reference  January 19, 2015   \n",
       "10840       Everyone                  Lifestyle     July 25, 2018   \n",
       "\n",
       "              Current Ver         Android Ver  \n",
       "0                   1.0.0        4.0.3 and up  \n",
       "1                   2.0.0        4.0.3 and up  \n",
       "2                   1.2.4        4.0.3 and up  \n",
       "3      Varies with device          4.2 and up  \n",
       "4                     1.1          4.4 and up  \n",
       "...                   ...                 ...  \n",
       "10836                1.48          4.1 and up  \n",
       "10837                 1.0          4.1 and up  \n",
       "10838                 1.0          2.2 and up  \n",
       "10839  Varies with device  Varies with device  \n",
       "10840  Varies with device  Varies with device  \n",
       "\n",
       "[10841 rows x 13 columns]"
      ]
     },
     "execution_count": 182,
     "metadata": {},
     "output_type": "execute_result"
    }
   ],
   "source": [
    "df"
   ]
  },
  {
   "cell_type": "markdown",
   "id": "89730d8a-2318-4735-b988-5a9be297e04e",
   "metadata": {},
   "source": [
    "### 1. Find Total Number Apps in Google Play Store"
   ]
  },
  {
   "cell_type": "code",
   "execution_count": 183,
   "id": "fca3f68d-f09c-4e65-8d61-cd1f503850a6",
   "metadata": {},
   "outputs": [
    {
     "name": "stdout",
     "output_type": "stream",
     "text": [
      "Total Number Of Apps In Google Play Store =  10841\n"
     ]
    }
   ],
   "source": [
    "df.shape\n",
    "print(\"Total Number Of Apps In Google Play Store = \", df.shape[0])"
   ]
  },
  {
   "cell_type": "markdown",
   "id": "df2089d2-18eb-4037-8ae0-f74fd981bfe2",
   "metadata": {},
   "source": [
    "### 2. Find the Total Number of Columns in Each app of Google Play Store"
   ]
  },
  {
   "cell_type": "code",
   "execution_count": 184,
   "id": "3ba7bbf5-8fa2-4347-9e72-875c7b982c84",
   "metadata": {},
   "outputs": [
    {
     "name": "stdout",
     "output_type": "stream",
     "text": [
      "Total Number Of Columns =  13\n"
     ]
    }
   ],
   "source": [
    "df.shape\n",
    "print(\"Total Number Of Columns = \", df.shape[1])"
   ]
  },
  {
   "cell_type": "markdown",
   "id": "4d3d46d4-fb04-42ea-bfff-83f0f1e432a1",
   "metadata": {},
   "source": [
    "----"
   ]
  },
  {
   "cell_type": "markdown",
   "id": "da73cd0b-a880-42e9-8653-eebc44d94b68",
   "metadata": {},
   "source": [
    "### 1. Display Top 5 Rows of The Dataset"
   ]
  },
  {
   "cell_type": "code",
   "execution_count": 185,
   "id": "460a1044-7518-432e-945b-10547d64886d",
   "metadata": {},
   "outputs": [
    {
     "name": "stdout",
     "output_type": "stream",
     "text": [
      "Top 5 Rows Of Data-Set =                                                   App        Category  Rating  \\\n",
      "0     Photo Editor & Candy Camera & Grid & ScrapBook  ART_AND_DESIGN     4.1   \n",
      "1                                Coloring book moana  ART_AND_DESIGN     3.9   \n",
      "2  U Launcher Lite – FREE Live Cool Themes, Hide ...  ART_AND_DESIGN     4.7   \n",
      "3                              Sketch - Draw & Paint  ART_AND_DESIGN     4.5   \n",
      "4              Pixel Draw - Number Art Coloring Book  ART_AND_DESIGN     4.3   \n",
      "\n",
      "  Reviews  Size     Installs  Type Price Content Rating  \\\n",
      "0     159   19M      10,000+  Free     0       Everyone   \n",
      "1     967   14M     500,000+  Free     0       Everyone   \n",
      "2   87510  8.7M   5,000,000+  Free     0       Everyone   \n",
      "3  215644   25M  50,000,000+  Free     0           Teen   \n",
      "4     967  2.8M     100,000+  Free     0       Everyone   \n",
      "\n",
      "                      Genres      Last Updated         Current Ver  \\\n",
      "0               Art & Design   January 7, 2018               1.0.0   \n",
      "1  Art & Design;Pretend Play  January 15, 2018               2.0.0   \n",
      "2               Art & Design    August 1, 2018               1.2.4   \n",
      "3               Art & Design      June 8, 2018  Varies with device   \n",
      "4    Art & Design;Creativity     June 20, 2018                 1.1   \n",
      "\n",
      "    Android Ver  \n",
      "0  4.0.3 and up  \n",
      "1  4.0.3 and up  \n",
      "2  4.0.3 and up  \n",
      "3    4.2 and up  \n",
      "4    4.4 and up  \n"
     ]
    }
   ],
   "source": [
    "print(\"Top 5 Rows Of Data-Set = \", df.head())"
   ]
  },
  {
   "cell_type": "markdown",
   "id": "80c4197e-f3af-4864-9c7a-805356eab719",
   "metadata": {},
   "source": [
    "### 2. Check the Last 3 Rows of The Dataset"
   ]
  },
  {
   "cell_type": "code",
   "execution_count": 186,
   "id": "cb6ddae7-22a8-433d-a4cc-f00a0b5207fc",
   "metadata": {},
   "outputs": [
    {
     "name": "stdout",
     "output_type": "stream",
     "text": [
      "Last 3 Rows Of Data-set =                                                   App             Category  \\\n",
      "10838                         Parkinson Exercices FR              MEDICAL   \n",
      "10839                  The SCP Foundation DB fr nn5n  BOOKS_AND_REFERENCE   \n",
      "10840  iHoroscope - 2018 Daily Horoscope & Astrology            LIFESTYLE   \n",
      "\n",
      "       Rating Reviews                Size     Installs  Type Price  \\\n",
      "10838     NaN       3                9.5M       1,000+  Free     0   \n",
      "10839     4.5     114  Varies with device       1,000+  Free     0   \n",
      "10840     4.5  398307                 19M  10,000,000+  Free     0   \n",
      "\n",
      "      Content Rating             Genres      Last Updated         Current Ver  \\\n",
      "10838       Everyone            Medical  January 20, 2017                 1.0   \n",
      "10839     Mature 17+  Books & Reference  January 19, 2015  Varies with device   \n",
      "10840       Everyone          Lifestyle     July 25, 2018  Varies with device   \n",
      "\n",
      "              Android Ver  \n",
      "10838          2.2 and up  \n",
      "10839  Varies with device  \n",
      "10840  Varies with device  \n"
     ]
    }
   ],
   "source": [
    "print(\"Last 3 Rows Of Data-set = \", df.tail(3))"
   ]
  },
  {
   "cell_type": "markdown",
   "id": "cb7a0503-6da9-4264-9c14-96983ce28e0d",
   "metadata": {},
   "source": [
    "### 3. Find Shape of Our Dataset (Number of Rows & Number of Columns)"
   ]
  },
  {
   "cell_type": "code",
   "execution_count": 187,
   "id": "6febefe9-ff9c-4319-8f45-755e076d6a39",
   "metadata": {},
   "outputs": [
    {
     "name": "stdout",
     "output_type": "stream",
     "text": [
      "Shape Of Data-set Rows = 10841, Cols = 13\n"
     ]
    }
   ],
   "source": [
    "print(\"Shape Of Data-set Rows = {}, Cols = {}\".format(df.shape[0], df.shape[1]))"
   ]
  },
  {
   "cell_type": "markdown",
   "id": "326e713e-e518-47d4-ac99-4107a39e5dc8",
   "metadata": {},
   "source": [
    "### 4. Get Information About Our Dataset Like Total Number Rows, Total Number of Columns, Datatypes of Each Column And  Memory Requirement\n"
   ]
  },
  {
   "cell_type": "code",
   "execution_count": 188,
   "id": "93f0e36d-4af8-491e-b8cf-a0727bd72b72",
   "metadata": {},
   "outputs": [
    {
     "name": "stdout",
     "output_type": "stream",
     "text": [
      "-----Information About Dataset-----\n",
      "<class 'pandas.core.frame.DataFrame'>\n",
      "RangeIndex: 10841 entries, 0 to 10840\n",
      "Data columns (total 13 columns):\n",
      " #   Column          Non-Null Count  Dtype  \n",
      "---  ------          --------------  -----  \n",
      " 0   App             10841 non-null  object \n",
      " 1   Category        10841 non-null  object \n",
      " 2   Rating          9367 non-null   float64\n",
      " 3   Reviews         10841 non-null  object \n",
      " 4   Size            10841 non-null  object \n",
      " 5   Installs        10841 non-null  object \n",
      " 6   Type            10840 non-null  object \n",
      " 7   Price           10841 non-null  object \n",
      " 8   Content Rating  10840 non-null  object \n",
      " 9   Genres          10841 non-null  object \n",
      " 10  Last Updated    10841 non-null  object \n",
      " 11  Current Ver     10833 non-null  object \n",
      " 12  Android Ver     10838 non-null  object \n",
      "dtypes: float64(1), object(12)\n",
      "memory usage: 1.1+ MB\n",
      "None\n"
     ]
    }
   ],
   "source": [
    "print(\"-----Information About Dataset-----\")\n",
    "print(df.info())"
   ]
  },
  {
   "cell_type": "markdown",
   "id": "04f08b0e-c68a-4e78-bc6e-8f5146c3d91a",
   "metadata": {},
   "source": [
    "### 5. Get Overall Statistics About The Dataframe"
   ]
  },
  {
   "cell_type": "code",
   "execution_count": 189,
   "id": "2c229216-1620-43d7-af9e-ed1f35e01db8",
   "metadata": {},
   "outputs": [
    {
     "name": "stdout",
     "output_type": "stream",
     "text": [
      "----------Overall Stastics-----------\n",
      "           App Category       Rating Reviews                Size    Installs  \\\n",
      "count    10841    10841  9367.000000   10841               10841       10841   \n",
      "unique    9660       34          NaN    6002                 462          22   \n",
      "top     ROBLOX   FAMILY          NaN       0  Varies with device  1,000,000+   \n",
      "freq         9     1972          NaN     596                1695        1579   \n",
      "mean       NaN      NaN     4.193338     NaN                 NaN         NaN   \n",
      "std        NaN      NaN     0.537431     NaN                 NaN         NaN   \n",
      "min        NaN      NaN     1.000000     NaN                 NaN         NaN   \n",
      "25%        NaN      NaN     4.000000     NaN                 NaN         NaN   \n",
      "50%        NaN      NaN     4.300000     NaN                 NaN         NaN   \n",
      "75%        NaN      NaN     4.500000     NaN                 NaN         NaN   \n",
      "max        NaN      NaN    19.000000     NaN                 NaN         NaN   \n",
      "\n",
      "         Type  Price Content Rating Genres    Last Updated  \\\n",
      "count   10840  10841          10840  10841           10841   \n",
      "unique      3     93              6    120            1378   \n",
      "top      Free      0       Everyone  Tools  August 3, 2018   \n",
      "freq    10039  10040           8714    842             326   \n",
      "mean      NaN    NaN            NaN    NaN             NaN   \n",
      "std       NaN    NaN            NaN    NaN             NaN   \n",
      "min       NaN    NaN            NaN    NaN             NaN   \n",
      "25%       NaN    NaN            NaN    NaN             NaN   \n",
      "50%       NaN    NaN            NaN    NaN             NaN   \n",
      "75%       NaN    NaN            NaN    NaN             NaN   \n",
      "max       NaN    NaN            NaN    NaN             NaN   \n",
      "\n",
      "               Current Ver Android Ver  \n",
      "count                10833       10838  \n",
      "unique                2832          33  \n",
      "top     Varies with device  4.1 and up  \n",
      "freq                  1459        2451  \n",
      "mean                   NaN         NaN  \n",
      "std                    NaN         NaN  \n",
      "min                    NaN         NaN  \n",
      "25%                    NaN         NaN  \n",
      "50%                    NaN         NaN  \n",
      "75%                    NaN         NaN  \n",
      "max                    NaN         NaN  \n"
     ]
    }
   ],
   "source": [
    "print(\"----------Overall Stastics-----------\")\n",
    "print(df.describe(include='all'))"
   ]
  },
  {
   "cell_type": "markdown",
   "id": "cfb0bec5-5154-4f46-8348-f11ceede881a",
   "metadata": {},
   "source": [
    "### 6. Total Number of App Titles Contain Astrology"
   ]
  },
  {
   "cell_type": "code",
   "execution_count": 190,
   "id": "1d1de39e-4380-4e55-9407-3d26a282db6e",
   "metadata": {},
   "outputs": [
    {
     "name": "stdout",
     "output_type": "stream",
     "text": [
      "----------Apps Contains Astrology----------\n",
      "                                                     App   Category  Rating  \\\n",
      "1570   Horoscopes – Daily Zodiac Horoscope and Astrology  LIFESTYLE     4.6   \n",
      "1592              သိင်္ Astrology - Min Thein Kha BayDin  LIFESTYLE     4.7   \n",
      "10840      iHoroscope - 2018 Daily Horoscope & Astrology  LIFESTYLE     4.5   \n",
      "\n",
      "      Reviews Size     Installs  Type Price Content Rating     Genres  \\\n",
      "1570   161143  11M  10,000,000+  Free     0   Everyone 10+  Lifestyle   \n",
      "1592     2225  15M     100,000+  Free     0       Everyone  Lifestyle   \n",
      "10840  398307  19M  10,000,000+  Free     0       Everyone  Lifestyle   \n",
      "\n",
      "        Last Updated         Current Ver         Android Ver  \n",
      "1570   June 25, 2018          5.2.4(881)        4.0.3 and up  \n",
      "1592   July 26, 2018               4.2.1        4.0.3 and up  \n",
      "10840  July 25, 2018  Varies with device  Varies with device  \n",
      "Total Number = 3\n"
     ]
    }
   ],
   "source": [
    "print(\"----------Apps Contains Astrology----------\")\n",
    "print(df[df['App'].str.contains('Astrology', case=False)])\n",
    "no = len(df[df['App'].str.contains('Astrology', case=False)])\n",
    "print(\"Total Number = {}\".format(no))"
   ]
  },
  {
   "cell_type": "markdown",
   "id": "1244c178-160b-4cc5-a644-ba7f1bc3602d",
   "metadata": {},
   "source": [
    "### 7. Find Average App Rating"
   ]
  },
  {
   "cell_type": "code",
   "execution_count": 191,
   "id": "6bc31bfc-a5d8-4cb7-ab4f-6bde8474ecfe",
   "metadata": {},
   "outputs": [
    {
     "name": "stdout",
     "output_type": "stream",
     "text": [
      "Average Rating App = 4.2\n"
     ]
    }
   ],
   "source": [
    "print(\"Average Rating App = {}\".format(round(df['Rating'].mean(),1)))"
   ]
  },
  {
   "cell_type": "markdown",
   "id": "7af0d2cc-c3f6-4878-872b-4acbafea7076",
   "metadata": {},
   "source": [
    "### 8.  Find Total Number of Unique Category"
   ]
  },
  {
   "cell_type": "code",
   "execution_count": 192,
   "id": "ba8cd41f-f632-4d37-be84-0550504f6f5b",
   "metadata": {},
   "outputs": [
    {
     "name": "stdout",
     "output_type": "stream",
     "text": [
      "Total Number Of Unique Category = 34\n"
     ]
    }
   ],
   "source": [
    "print(\"Total Number Of Unique Category = {}\".format(df['Category'].nunique()))"
   ]
  },
  {
   "cell_type": "markdown",
   "id": "0d7dcf06-0547-44ea-b25b-b2c47964418f",
   "metadata": {},
   "source": [
    "### Displaying Unique 'Category Names'"
   ]
  },
  {
   "cell_type": "code",
   "execution_count": 193,
   "id": "96edbd7b-b65d-408b-a2b6-cf0d36390a3e",
   "metadata": {},
   "outputs": [
    {
     "name": "stdout",
     "output_type": "stream",
     "text": [
      "ART_AND_DESIGN\n",
      "AUTO_AND_VEHICLES\n",
      "BEAUTY\n",
      "BOOKS_AND_REFERENCE\n",
      "BUSINESS\n",
      "COMICS\n",
      "COMMUNICATION\n",
      "DATING\n",
      "EDUCATION\n",
      "ENTERTAINMENT\n",
      "EVENTS\n",
      "FINANCE\n",
      "FOOD_AND_DRINK\n",
      "HEALTH_AND_FITNESS\n",
      "HOUSE_AND_HOME\n",
      "LIBRARIES_AND_DEMO\n",
      "LIFESTYLE\n",
      "GAME\n",
      "FAMILY\n",
      "MEDICAL\n",
      "SOCIAL\n",
      "SHOPPING\n",
      "PHOTOGRAPHY\n",
      "SPORTS\n",
      "TRAVEL_AND_LOCAL\n",
      "TOOLS\n",
      "PERSONALIZATION\n",
      "PRODUCTIVITY\n",
      "PARENTING\n",
      "WEATHER\n",
      "VIDEO_PLAYERS\n",
      "NEWS_AND_MAGAZINES\n",
      "MAPS_AND_NAVIGATION\n",
      "1.9\n"
     ]
    }
   ],
   "source": [
    "for name in df['Category'].unique():\n",
    "    print(name)"
   ]
  },
  {
   "cell_type": "markdown",
   "id": "466ca0ed-6492-4865-ba7a-c45dead7006e",
   "metadata": {},
   "source": [
    "### 9. Which Category Getting The Highest Average Rating?"
   ]
  },
  {
   "cell_type": "code",
   "execution_count": 194,
   "id": "97152aef-b047-4873-848f-f23c23536937",
   "metadata": {},
   "outputs": [
    {
     "name": "stdout",
     "output_type": "stream",
     "text": [
      "------Category Which Have Highest Rating------\n",
      "Category\n",
      "1.9    19.0\n",
      "Name: Rating, dtype: float64\n"
     ]
    }
   ],
   "source": [
    "print(\"------Category Which Have Highest Rating------\")\n",
    "print(df.groupby(\"Category\")['Rating'].mean().sort_values(ascending=False).head(1))"
   ]
  },
  {
   "cell_type": "markdown",
   "id": "a8040e91-3bc0-4c26-ab40-29cbecba7e09",
   "metadata": {},
   "source": [
    "### OR"
   ]
  },
  {
   "cell_type": "code",
   "execution_count": 195,
   "id": "99b4f0de-5b1e-4dcb-83b4-4ef69fe14c01",
   "metadata": {},
   "outputs": [
    {
     "name": "stdout",
     "output_type": "stream",
     "text": [
      "------Category Which Have Highest Rating------\n"
     ]
    },
    {
     "data": {
      "text/plain": [
       "Category\n",
       "1.9    19.0\n",
       "Name: Rating, dtype: float64"
      ]
     },
     "execution_count": 195,
     "metadata": {},
     "output_type": "execute_result"
    }
   ],
   "source": [
    "print(\"------Category Which Have Highest Rating------\")\n",
    "df.groupby(\"Category\")['Rating'].mean().sort_values().tail(1)"
   ]
  },
  {
   "cell_type": "markdown",
   "id": "dcfabd31-96fb-4762-b935-36c56d93e446",
   "metadata": {},
   "source": [
    "### 10. Find Total Number of App having 5 Star Rating"
   ]
  },
  {
   "cell_type": "code",
   "execution_count": 196,
   "id": "54ac7559-db61-41f5-90dd-a9125a5a5b8a",
   "metadata": {},
   "outputs": [
    {
     "name": "stdout",
     "output_type": "stream",
     "text": [
      "Number Of Apps Having 5 Star Ratings = Rating    274\n",
      "dtype: int64\n"
     ]
    }
   ],
   "source": [
    "print(\"Number Of Apps Having 5 Star Ratings = {}\".format((df.loc[::,['Rating']]==5).sum()))"
   ]
  },
  {
   "cell_type": "markdown",
   "id": "c9254e8a-8bb3-4efa-8dea-0cf9cc8f243f",
   "metadata": {},
   "source": [
    "### OR"
   ]
  },
  {
   "cell_type": "code",
   "execution_count": 197,
   "id": "bc0413f7-42c2-403c-83f3-3706836ee0c4",
   "metadata": {},
   "outputs": [
    {
     "name": "stdout",
     "output_type": "stream",
     "text": [
      "Number Of Apps Having 5 Star Ratings = 274\n"
     ]
    }
   ],
   "source": [
    "print(\"Number Of Apps Having 5 Star Ratings = {}\".format(len(df[df['Rating']==5])))"
   ]
  },
  {
   "cell_type": "markdown",
   "id": "827ae2be-f432-4d58-be3b-559f2d0e3af0",
   "metadata": {},
   "source": [
    "### 11. Find Average Value of Reviews"
   ]
  },
  {
   "cell_type": "code",
   "execution_count": 198,
   "id": "9c77703f-73be-493e-bd86-49e24b8bb1ed",
   "metadata": {},
   "outputs": [],
   "source": [
    "df['Reviews']=df['Reviews'].replace(\"3.0M\", 3.0*1000000)"
   ]
  },
  {
   "cell_type": "code",
   "execution_count": 199,
   "id": "bff0c763-460f-4b70-bdb2-4a597e47d369",
   "metadata": {},
   "outputs": [],
   "source": [
    "df['Reviews']=df['Reviews'].astype(\"float\")"
   ]
  },
  {
   "cell_type": "code",
   "execution_count": 200,
   "id": "ed1d40a8-8696-407c-8728-424939d508f1",
   "metadata": {},
   "outputs": [
    {
     "name": "stdout",
     "output_type": "stream",
     "text": [
      "Average Values Of Reviews = 444388.65\n"
     ]
    }
   ],
   "source": [
    "print(\"Average Values Of Reviews = {}\".format(round(df['Reviews'].mean(), 2)))"
   ]
  },
  {
   "cell_type": "markdown",
   "id": "732d4d70-d97f-4db9-ba86-0aac9f85481c",
   "metadata": {},
   "source": [
    "### 12. Find Total Number of Free and Paid Apps\n"
   ]
  },
  {
   "cell_type": "code",
   "execution_count": 201,
   "id": "07d2fce7-a970-4892-9b0c-ab75ec41ff53",
   "metadata": {},
   "outputs": [
    {
     "name": "stdout",
     "output_type": "stream",
     "text": [
      "Total Number Of Free And Paid Apps Type\n",
      "Free    10039\n",
      "Paid      800\n",
      "0           1\n",
      "Name: count, dtype: int64\n"
     ]
    }
   ],
   "source": [
    "print(\"Total Number Of Free And Paid Apps {}\".format(df['Type'].value_counts()))"
   ]
  },
  {
   "cell_type": "code",
   "execution_count": 202,
   "id": "0dafede4-34c1-4020-9f2f-fff0bd4c7856",
   "metadata": {},
   "outputs": [
    {
     "name": "stdout",
     "output_type": "stream",
     "text": [
      "Total Number Of Free And Paid Apps Type\n",
      "0           1\n",
      "Free    10039\n",
      "Paid      800\n",
      "Name: App, dtype: int64\n"
     ]
    }
   ],
   "source": [
    "print(\"Total Number Of Free And Paid Apps {}\".format(df.groupby(\"Type\").agg('count')['App']))"
   ]
  },
  {
   "cell_type": "markdown",
   "id": "9194f374-6cd1-43a7-9eec-e328a7d458a8",
   "metadata": {},
   "source": [
    "### 13.  Which App Has Maximum Reviews?"
   ]
  },
  {
   "cell_type": "code",
   "execution_count": 203,
   "id": "a47660a6-56dd-4076-aec4-8d2518200e8f",
   "metadata": {},
   "outputs": [
    {
     "name": "stdout",
     "output_type": "stream",
     "text": [
      "App Having Maximum Reviews = 2544    Facebook\n",
      "Name: App, dtype: object\n"
     ]
    }
   ],
   "source": [
    "mreview=df[df[\"Reviews\"].max()==df[\"Reviews\"]][\"App\"]\n",
    "print(\"App Having Maximum Reviews = {}\".format(mreview))"
   ]
  },
  {
   "cell_type": "markdown",
   "id": "b571bbd5-699f-45fb-a855-509bd765d2d2",
   "metadata": {},
   "source": [
    "### 14. Display Top 5 Apps Having Highest Reviews"
   ]
  },
  {
   "cell_type": "code",
   "execution_count": 204,
   "id": "9bfdb01c-023c-466b-acf5-aa5886f9b28a",
   "metadata": {},
   "outputs": [
    {
     "data": {
      "text/html": [
       "<div>\n",
       "<style scoped>\n",
       "    .dataframe tbody tr th:only-of-type {\n",
       "        vertical-align: middle;\n",
       "    }\n",
       "\n",
       "    .dataframe tbody tr th {\n",
       "        vertical-align: top;\n",
       "    }\n",
       "\n",
       "    .dataframe thead th {\n",
       "        text-align: right;\n",
       "    }\n",
       "</style>\n",
       "<table border=\"1\" class=\"dataframe\">\n",
       "  <thead>\n",
       "    <tr style=\"text-align: right;\">\n",
       "      <th></th>\n",
       "      <th>App</th>\n",
       "    </tr>\n",
       "  </thead>\n",
       "  <tbody>\n",
       "    <tr>\n",
       "      <th>2544</th>\n",
       "      <td>Facebook</td>\n",
       "    </tr>\n",
       "    <tr>\n",
       "      <th>3943</th>\n",
       "      <td>Facebook</td>\n",
       "    </tr>\n",
       "    <tr>\n",
       "      <th>381</th>\n",
       "      <td>WhatsApp Messenger</td>\n",
       "    </tr>\n",
       "    <tr>\n",
       "      <th>336</th>\n",
       "      <td>WhatsApp Messenger</td>\n",
       "    </tr>\n",
       "    <tr>\n",
       "      <th>3904</th>\n",
       "      <td>WhatsApp Messenger</td>\n",
       "    </tr>\n",
       "  </tbody>\n",
       "</table>\n",
       "</div>"
      ],
      "text/plain": [
       "                     App\n",
       "2544            Facebook\n",
       "3943            Facebook\n",
       "381   WhatsApp Messenger\n",
       "336   WhatsApp Messenger\n",
       "3904  WhatsApp Messenger"
      ]
     },
     "execution_count": 204,
     "metadata": {},
     "output_type": "execute_result"
    }
   ],
   "source": [
    "index = df['Reviews'].sort_values(ascending=False).head().index\n",
    "df.loc[index,['App']]"
   ]
  },
  {
   "cell_type": "markdown",
   "id": "fceb1e1d-13c6-4db0-9eed-2da46c3c12f3",
   "metadata": {},
   "source": [
    "### 15. Find Average Rating of Free and Paid Apps"
   ]
  },
  {
   "cell_type": "code",
   "execution_count": 205,
   "id": "afc9111c-8018-44ff-829b-c196e12129cd",
   "metadata": {},
   "outputs": [
    {
     "data": {
      "text/plain": [
       "Type\n",
       "0       19.000000\n",
       "Free     4.186203\n",
       "Paid     4.266615\n",
       "Name: Rating, dtype: float64"
      ]
     },
     "execution_count": 205,
     "metadata": {},
     "output_type": "execute_result"
    }
   ],
   "source": [
    "df.groupby(\"Type\")[\"Rating\"].mean()"
   ]
  },
  {
   "cell_type": "markdown",
   "id": "a0e65ef8-df17-425e-8fe1-7c5014ab25df",
   "metadata": {},
   "source": [
    "# 16. Display Top  5 Apps Having Maximum Installs\n"
   ]
  },
  {
   "cell_type": "code",
   "execution_count": 218,
   "id": "5cbb970c-23e7-4d8a-b753-b823ce67b439",
   "metadata": {},
   "outputs": [],
   "source": [
    "df[\"Installss\"]=df[\"Installs\"].str.replace(\",\",\"\")"
   ]
  },
  {
   "cell_type": "code",
   "execution_count": 219,
   "id": "da621360-f3b4-46dc-9361-538fa867c4a5",
   "metadata": {},
   "outputs": [],
   "source": [
    "df['Installss']=df['Installss'].str.replace(\"+\",\"\")"
   ]
  },
  {
   "cell_type": "code",
   "execution_count": 220,
   "id": "a9515e8f-3f25-4551-b5c4-96178d46d770",
   "metadata": {},
   "outputs": [
    {
     "data": {
      "text/plain": [
       "0           10000\n",
       "1          500000\n",
       "2         5000000\n",
       "3        50000000\n",
       "4          100000\n",
       "           ...   \n",
       "10836        5000\n",
       "10837         100\n",
       "10838        1000\n",
       "10839        1000\n",
       "10840    10000000\n",
       "Name: Installss, Length: 10841, dtype: object"
      ]
     },
     "execution_count": 220,
     "metadata": {},
     "output_type": "execute_result"
    }
   ],
   "source": [
    "df['Installss']"
   ]
  },
  {
   "cell_type": "code",
   "execution_count": 221,
   "id": "4684e766-b329-43cd-9918-d23023f05e63",
   "metadata": {},
   "outputs": [
    {
     "data": {
      "text/plain": [
       "array(['10000', '500000', '5000000', '50000000', '100000', '50000',\n",
       "       '1000000', '10000000', '5000', '100000000', '1000000000', '1000',\n",
       "       '500000000', '50', '100', '500', '10', '1', '5', '0', 'Free'],\n",
       "      dtype=object)"
      ]
     },
     "execution_count": 221,
     "metadata": {},
     "output_type": "execute_result"
    }
   ],
   "source": [
    "df['Installss'].unique()"
   ]
  },
  {
   "cell_type": "code",
   "execution_count": 222,
   "id": "ab8c4f62-09ad-4364-9ddc-a8f3c7609acf",
   "metadata": {},
   "outputs": [],
   "source": [
    "df[\"Installss\"]=df[\"Installss\"].str.replace(\"Free\",\"0\")"
   ]
  },
  {
   "cell_type": "code",
   "execution_count": 223,
   "id": "3b18f079-a76b-4a06-a97f-b04fd76e6869",
   "metadata": {},
   "outputs": [
    {
     "data": {
      "text/plain": [
       "array(['10000', '500000', '5000000', '50000000', '100000', '50000',\n",
       "       '1000000', '10000000', '5000', '100000000', '1000000000', '1000',\n",
       "       '500000000', '50', '100', '500', '10', '1', '5', '0'], dtype=object)"
      ]
     },
     "execution_count": 223,
     "metadata": {},
     "output_type": "execute_result"
    }
   ],
   "source": [
    "df['Installss'].unique()"
   ]
  },
  {
   "cell_type": "code",
   "execution_count": 224,
   "id": "d648341b-18ed-4c00-a9e2-c048cac50f79",
   "metadata": {},
   "outputs": [],
   "source": [
    "df[\"Installss\"]=df[\"Installss\"].astype(\"int\")"
   ]
  },
  {
   "cell_type": "code",
   "execution_count": 225,
   "id": "5a383483-d619-4308-b031-5574143976c8",
   "metadata": {},
   "outputs": [
    {
     "data": {
      "text/plain": [
       "dtype('int64')"
      ]
     },
     "execution_count": 225,
     "metadata": {},
     "output_type": "execute_result"
    }
   ],
   "source": [
    "df[\"Installss\"].dtype"
   ]
  },
  {
   "cell_type": "code",
   "execution_count": 226,
   "id": "e4091231-d338-404e-a52a-6587e230c9ce",
   "metadata": {},
   "outputs": [
    {
     "data": {
      "text/plain": [
       "5856    Google Play Games\n",
       "5395        Google Photos\n",
       "2853        Google Photos\n",
       "2884        Google Photos\n",
       "4170         Google Drive\n",
       "Name: App, dtype: object"
      ]
     },
     "execution_count": 226,
     "metadata": {},
     "output_type": "execute_result"
    }
   ],
   "source": [
    "indices=df[\"Installss\"].sort_values(ascending=False).head().index\n",
    "df.loc[indices][\"App\"]"
   ]
  },
  {
   "cell_type": "code",
   "execution_count": null,
   "id": "8be93727-c7f2-4ff0-a017-eea534f00495",
   "metadata": {},
   "outputs": [],
   "source": []
  },
  {
   "cell_type": "markdown",
   "id": "0906a02c-ec65-4ea7-a119-848753e55950",
   "metadata": {},
   "source": [
    "---------------------"
   ]
  }
 ],
 "metadata": {
  "kernelspec": {
   "display_name": "Python 3 (ipykernel)",
   "language": "python",
   "name": "python3"
  },
  "language_info": {
   "codemirror_mode": {
    "name": "ipython",
    "version": 3
   },
   "file_extension": ".py",
   "mimetype": "text/x-python",
   "name": "python",
   "nbconvert_exporter": "python",
   "pygments_lexer": "ipython3",
   "version": "3.12.7"
  }
 },
 "nbformat": 4,
 "nbformat_minor": 5
}
